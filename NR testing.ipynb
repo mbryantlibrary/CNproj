{
 "cells": [
  {
   "cell_type": "code",
   "execution_count": 2,
   "metadata": {
    "collapsed": false
   },
   "outputs": [
    {
     "name": "stdout",
     "output_type": "stream",
     "text": [
      "Populating the interactive namespace from numpy and matplotlib\n"
     ]
    },
    {
     "name": "stderr",
     "output_type": "stream",
     "text": [
      "WARNING: pylab import has clobbered these variables: ['dist', 'sin']\n",
      "`%matplotlib` prevents importing * from pylab and numpy\n"
     ]
    }
   ],
   "source": [
    "#%cd N:\\workspace\\CNProj\\src\n",
    "from NeuroRobot.Sim import *\n",
    "from NeuroRobot.Visualiser import *\n",
    "from NeuroRobot.GA import *\n",
    "from NeuroRobot.Controller import *\n",
    "import numpy as np\n",
    "import matplotlib.pyplot as plt\n",
    "%pylab inline"
   ]
  },
  {
   "cell_type": "code",
   "execution_count": null,
   "metadata": {
    "collapsed": false
   },
   "outputs": [
    {
     "name": "stdout",
     "output_type": "stream",
     "text": [
      "Initialising GA...\n",
      "Calculating 1 of 100 fitnesses...\n",
      "Calculating 2 of 100 fitnesses...\n",
      "Calculating 3 of 100 fitnesses..."
     ]
    }
   ],
   "source": [
    "ga = GA(npop=100,gen=400,mut=0.5)"
   ]
  },
  {
   "cell_type": "code",
   "execution_count": 4,
   "metadata": {
    "collapsed": false
   },
   "outputs": [
    {
     "data": {
      "text/plain": [
       "(array([ 1.,  0.,  0.,  0.,  1.,  0.,  0.,  0.,  0.,  0.,  0.,  0.,  0.,\n",
       "         0.,  1.,  3.,  0.,  0.,  2.,  2.]),\n",
       " array([-0.27501573, -0.25801893, -0.24102213, -0.22402533, -0.20702853,\n",
       "        -0.19003173, -0.17303493, -0.15603813, -0.13904133, -0.12204453,\n",
       "        -0.10504773, -0.08805093, -0.07105413, -0.05405733, -0.03706053,\n",
       "        -0.02006373, -0.00306693,  0.01392987,  0.03092667,  0.04792347,\n",
       "         0.06492027]),\n",
       " <a list of 20 Patch objects>)"
      ]
     },
     "execution_count": 4,
     "metadata": {},
     "output_type": "execute_result"
    },
    {
     "data": {
      "image/png": "[encoded data removed]",
      "text/plain": [
       "<matplotlib.figure.Figure at 0x7f565535df50>"
      ]
     },
     "metadata": {},
     "output_type": "display_data"
    }
   ],
   "source": [
    "plt.hist(ga.fitnesses,bins=20)"
   ]
  },
  {
   "cell_type": "code",
   "execution_count": 5,
   "metadata": {
    "collapsed": false,
    "scrolled": false
   },
   "outputs": [
    {
     "name": "stdout",
     "output_type": "stream",
     "text": [
      "Starting GA run...\n",
      "N =   0 | Max = 0.064920 | min = -0.275016 | avg = -0.035557 | var = 0.011231\n",
      "N =   1 | Max = 0.064920 | min = -0.275016 | avg = -0.024226 | var = 0.008732\n",
      "N =   2 | Max = 0.064920 | min = -0.275016 | avg = -0.016529 | var = 0.008352\n",
      "N =   3 | Max = 0.064920 | min = -0.020896 | avg = 0.010877 | var = 0.000944\n",
      "N =   4 | Max = 0.064920 | min = -0.204385 | avg = -0.013211 | var = 0.004932\n",
      "N =   5 | Max = 0.064920 | min = -0.204385 | avg = -0.012302 | var = 0.004951\n",
      "N =   6 | Max = 0.064920 | min = -0.761468 | avg = -0.088353 | var = 0.055280\n",
      "N =   7 | Max = 0.064920 | min = -0.761468 | avg = -0.070501 | var = 0.054005\n",
      "N =   8 | Max = 0.064920 | min = -0.027779 | avg = 0.002868 | var = 0.001061\n",
      "N =   9 | Max = 0.064920 | min = -0.025867 | avg = 0.005856 | var = 0.000958\n",
      "Finished\n"
     ]
    }
   ],
   "source": [
    "ga.run(print_output=True)"
   ]
  },
  {
   "cell_type": "code",
   "execution_count": 6,
   "metadata": {
    "collapsed": false
   },
   "outputs": [
    {
     "data": {
      "text/plain": [
       "[<matplotlib.lines.Line2D at 0x7f563d048850>]"
      ]
     },
     "execution_count": 6,
     "metadata": {},
     "output_type": "execute_result"
    },
    {
     "data": {
      "image/png": "[encoded data removed]",
      "text/plain": [
       "<matplotlib.figure.Figure at 0x7f563d327410>"
      ]
     },
     "metadata": {},
     "output_type": "display_data"
    },
    {
     "data": {
      "image/png": "[encoded data removed]",
      "text/plain": [
       "<matplotlib.figure.Figure at 0x7f563d327750>"
      ]
     },
     "metadata": {},
     "output_type": "display_data"
    }
   ],
   "source": [
    "maxFits = ([stats.maxFit for stats in ga.stats])\n",
    "plt.plot(np.arange(len(maxFits)),maxFits)\n",
    "minFits = ([stats.minFit for stats in ga.stats])\n",
    "plt.plot(np.arange(len(maxFits)),minFits)\n",
    "avgFits = ([stats.avgFit for stats in ga.stats])\n",
    "plt.plot(np.arange(len(maxFits)),avgFits)\n",
    "plt.figure()\n",
    "varis = ([stats.variance for stats in ga.stats])\n",
    "plt.plot(np.arange(len(maxFits)),varis)"
   ]
  },
  {
   "cell_type": "code",
   "execution_count": 7,
   "metadata": {
    "collapsed": false
   },
   "outputs": [],
   "source": [
    "ga.save('\\exp\\23.04.15.csv')"
   ]
  },
  {
   "cell_type": "code",
   "execution_count": 8,
   "metadata": {
    "collapsed": false
   },
   "outputs": [
    {
     "name": "stdout",
     "output_type": "stream",
     "text": [
      "[-0.60239872 -0.53471279  0.04987793  0.13143988 -0.62585623 -0.51366956\n",
      "  0.80538099 -0.22566871 -0.85154983  0.87461359 -0.26247422  0.51570753\n",
      " -0.3891291   0.28006971  0.86210727 -0.32584205 -0.87518003 -0.83081644\n",
      " -0.37409742 -0.65673555  0.57499333]\n"
     ]
    }
   ],
   "source": [
    "bestI = np.argmax(ga.fitnesses)\n",
    "bestG = ga.pop[bestI]\n",
    "print(bestG.genes)\n",
    "v = Visualiser(bestG)"
   ]
  },
  {
   "cell_type": "code",
   "execution_count": 9,
   "metadata": {
    "collapsed": false
   },
   "outputs": [
    {
     "name": "stdout",
     "output_type": "stream",
     "text": [
      "[-0.22032076 -0.54437636  0.50337373 -0.93797222 -0.45642131 -0.58159065\n",
      " -0.53017489  0.87757615 -0.6805124  -0.03602975  0.62146926  0.89969893\n",
      " -0.00566938  0.23639266  0.47687621 -0.02170665 -0.76435082  0.16262398\n",
      " -0.07695995 -0.29536946  0.1628432 ]\n",
      "[-0.72841734  0.45992309  0.05565603  0.68534916  0.60907864  0.04173942\n",
      " -0.38438743  0.46311858 -0.16864163 -0.8148346  -0.34852063 -0.07059118\n",
      " -0.45305331  0.00632497  0.21933905 -0.87657531  0.39598615 -0.56445328\n",
      "  0.87806474 -0.90678108 -0.95945762]\n",
      "[ -5.71075785e-01   3.98838456e-01  -8.14804495e-01   3.31041216e-01\n",
      "  -9.43997223e-01   7.11491979e-01  -5.39386303e-01  -2.27143893e-01\n",
      "   5.20952881e-01   4.93942747e-01   3.76513600e-01  -4.41972709e-01\n",
      "  -6.08824366e-01  -7.87348336e-04   8.53065409e-01  -8.40309365e-01\n",
      "   2.15038823e-01   5.23763091e-01   9.34669938e-01  -4.48289551e-01\n",
      "   3.06889938e-01]\n",
      "[-0.643335    0.33238372 -0.57026031  0.09709839  0.68331461 -0.9629115\n",
      " -0.34801124  0.10354519  0.14485922 -0.78975864  0.25810796  0.23555958\n",
      "  0.30226168  0.1698425  -0.93327544 -0.70229527  0.72726705  0.93764929\n",
      "  0.77553176  0.28757647 -0.4175488 ]\n",
      "[-0.3903124  -0.41276572 -0.65470297  0.40071834  0.96732309 -0.76326718\n",
      "  0.89298207 -0.32933872 -0.295759    0.59730922  0.20965672  0.22700789\n",
      "  0.66277286  0.5465536   0.92371616  0.88873328 -0.24399419  0.23207837\n",
      " -0.09053092 -0.04500625 -0.71420462]\n",
      "[-0.28232633  0.91755518 -0.04305826 -0.36579491 -0.44703787  0.74790999\n",
      " -0.71225834 -0.7888244   0.99990814 -0.27814566  0.90596085 -0.888672\n",
      " -0.00987669  0.48013043  0.2409591  -0.73270211 -0.88827953 -0.10605599\n",
      " -0.90285236 -0.27942106 -0.29826412]\n",
      "[ 0.65740766  0.79899551 -0.38820989  0.5712997  -0.34879233 -0.41777687\n",
      "  0.96802096 -0.43955251  0.68400754 -0.96673245 -0.83029966  0.85930106\n",
      " -0.05774126  0.61669871  0.27805234  0.53933882 -0.74832016  0.67279696\n",
      "  0.65469478 -0.54532012  0.39008901]\n",
      "[ 0.02425329  0.09822329 -0.36203314  0.46240996 -0.90262851  0.77062765\n",
      "  0.8529968  -0.08867494  0.50312405 -0.85462318  0.09521927  0.1671442\n",
      "  0.21609186  0.5581078  -0.29705018 -0.5707936  -0.94477484 -0.58181096\n",
      " -0.01363276  0.76222109  0.22348629]\n",
      "[ 0.14748003  0.87597349  0.87442737  0.23847461 -0.49312045  0.43033561\n",
      "  0.6046062   0.8367157   0.9869384   0.20968995  0.14343832 -0.91735536\n",
      "  0.93229751  0.27482438  0.93215152  0.08358948 -0.89328544 -0.73219041\n",
      "  0.45686006  0.75076826 -0.25035003]\n",
      "[-0.26185984  0.87240098  0.19242463 -0.85752343  0.7203333   0.44374117\n",
      "  0.01573312  0.73570467 -0.65691487 -0.26963468  0.92635039  0.52566972\n",
      " -0.63162292 -0.88201204  0.35059361 -0.04766967 -0.79042786  0.36581507\n",
      " -0.35866133  0.36520257  0.34046213]\n"
     ]
    }
   ],
   "source": [
    "for ind in ga.pop:\n",
    "    print(ind.genes)"
   ]
  },
  {
   "cell_type": "code",
   "execution_count": 2,
   "metadata": {
    "collapsed": false
   },
   "outputs": [
    {
     "name": "stdout",
     "output_type": "stream",
     "text": [
      "[ 0.37812786  0.56105929 -0.96608785 -0.74143262 -0.23219708 -0.87531053\n",
      "  0.28519192 -0.03301939  0.43803829  0.16787633 -0.51939693  0.61983134\n",
      " -0.63058123  0.2721957  -0.9745592  -0.3604721  -0.01251349  0.83892011\n",
      " -0.37836711  0.33186155 -0.38495078]\n",
      "[ 0.59994564 -0.50075696  0.32450199 -0.00239525 -0.42442432 -0.17285302\n",
      " -0.79525193 -0.48778496  0.35364942  0.99219736 -0.277069    0.55085712\n",
      " -0.22580269  0.22624151 -0.21530457 -0.04762012 -0.1804325  -0.88524324\n",
      "  0.02587323 -0.60540844  0.8390407 ]\n",
      "[-0.12459398  0.20874929 -0.59755427 -0.94268937 -0.04472167  0.09714027\n",
      " -0.61873742  0.74745967  0.92771371  0.81438028  0.6523143  -0.64108991\n",
      " -0.18310435 -0.84631804  0.41132319 -0.23389834  0.56751682 -0.89201435\n",
      "  0.13885475 -0.8982814   0.86287712]\n",
      "[ 0.00459147  0.33063955  0.49896291  0.74426198 -0.70972558 -0.32417929\n",
      " -0.40563531  0.80786445  0.14605172  0.50496662  0.8633381  -0.89987907\n",
      "  0.36260853 -0.27844683 -0.27887795 -0.26324621  0.01612186 -0.66381099\n",
      " -0.58037807 -0.54988496 -0.68007057]\n",
      "[-0.65919862  0.83626441  0.22738952 -0.92939992  0.19688216  0.21790302\n",
      "  0.28597819  0.07148237  0.32185078 -0.42987084  0.21356777 -0.35585824\n",
      "  0.09976377  0.16808508 -0.910285   -0.70360033  0.96866816  0.27729362\n",
      " -0.362894    0.95630889 -0.64766893]\n",
      "[-0.44782573  0.39847039 -0.26586144  0.1685512  -0.30703176  0.7125378\n",
      "  0.02442567  0.90194464 -0.09366283 -0.73514156 -0.07697111  0.33877838\n",
      " -0.68995682  0.21794052 -0.04382193 -0.06022071  0.76230613 -0.81178531\n",
      "  0.22997539  0.48074679  0.97571133]\n",
      "[ 0.22361208 -0.53021612 -0.51304593 -0.32915109  0.65328972 -0.94536493\n",
      "  0.35099328  0.41082188 -0.38014562  0.17022759  0.45574887  0.19228424\n",
      "  0.01791784  0.88367348 -0.20344352 -0.51974843  0.69949539  0.11278217\n",
      "  0.05746216 -0.57054456 -0.48672604]\n",
      "[ 0.91536398  0.99911549  0.33915059 -0.23490084  0.95831714 -0.24105501\n",
      " -0.29594149 -0.55857511 -0.62774819  0.81366791 -0.84598856 -0.3860957\n",
      "  0.4789854  -0.65590432 -0.6364625  -0.13591654 -0.10650565  0.24317037\n",
      "  0.23627181 -0.33925538  0.61102346]\n",
      "[ 0.05908992 -0.82338749  0.14002621  0.1056301  -0.84427477  0.1985649\n",
      "  0.42068877  0.67954163 -0.04371434 -0.68972102  0.4376723  -0.6607511\n",
      "  0.13708963  0.09937372  0.76392551 -0.02750472  0.11333539  0.64480199\n",
      "  0.40697543 -0.44358495 -0.75235315]\n",
      "[-0.43846915  0.95261567 -0.94323692  0.27962614  0.09997098 -0.7176066\n",
      " -0.16679732  0.0235208  -0.91480925  0.27256223 -0.12038823 -0.97164885\n",
      " -0.83798223 -0.09568591  0.46719508  0.76670395 -0.87790086  0.12923951\n",
      "  0.29513901 -0.6181582  -0.40422751]\n"
     ]
    }
   ],
   "source": [
    "for i in range(0,10):\n",
    "    print(newRandomGenotype())"
   ]
  }
 ],
 "metadata": {
  "kernelspec": {
   "display_name": "Python 2",
   "language": "python",
   "name": "python2"
  },
  "language_info": {
   "codemirror_mode": {
    "name": "ipython",
    "version": 2
   },
   "file_extension": ".py",
   "mimetype": "text/x-python",
   "name": "python",
   "nbconvert_exporter": "python",
   "pygments_lexer": "ipython2",
   "version": "2.7.6"
  }
 },
 "nbformat": 4,
 "nbformat_minor": 0
}
