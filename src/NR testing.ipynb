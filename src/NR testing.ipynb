{
 "metadata": {
  "name": "",
  "signature": "sha256:73aa04d1152d46848bf53815f584de7e34f3078b726b87779b104326f2b61b94"
 },
 "nbformat": 3,
 "nbformat_minor": 0,
 "worksheets": [
  {
   "cells": [
    {
     "cell_type": "code",
     "collapsed": false,
     "input": [
      "from NeuroRobot.Sim import *\n",
      "from NeuroRobot.Visualiser import *\n",
      "from NeuroRobot.GA import *\n",
      "from NeuroRobot.Controller import *\n",
      "import numpy as np\n",
      "import matplotlib.pyplot as plt\n",
      "%pylab inline"
     ],
     "language": "python",
     "metadata": {},
     "outputs": [
      {
       "output_type": "stream",
       "stream": "stdout",
       "text": [
        "Populating the interactive namespace from numpy and matplotlib\n"
       ]
      },
      {
       "output_type": "stream",
       "stream": "stderr",
       "text": [
        "WARNING: pylab import has clobbered these variables: ['dist', 'sin']\n",
        "`%matplotlib` prevents importing * from pylab and numpy\n"
       ]
      }
     ],
     "prompt_number": 1
    },
    {
     "cell_type": "code",
     "collapsed": false,
     "input": [
      "ga = GA(npop=25,gen=200)"
     ],
     "language": "python",
     "metadata": {},
     "outputs": [
      {
       "output_type": "stream",
       "stream": "stdout",
       "text": [
        "Initialising GA...\n",
        "Calculating 1 of 25 fitnesses...\n",
        "Calculating 2 of 25 fitnesses..."
       ]
      },
      {
       "output_type": "stream",
       "stream": "stdout",
       "text": [
        "\n",
        "Calculating 3 of 25 fitnesses..."
       ]
      },
      {
       "output_type": "stream",
       "stream": "stdout",
       "text": [
        "\n",
        "Calculating 4 of 25 fitnesses..."
       ]
      },
      {
       "output_type": "stream",
       "stream": "stdout",
       "text": [
        "\n",
        "Calculating 5 of 25 fitnesses..."
       ]
      },
      {
       "output_type": "stream",
       "stream": "stdout",
       "text": [
        "\n",
        "Calculating 6 of 25 fitnesses..."
       ]
      },
      {
       "output_type": "stream",
       "stream": "stdout",
       "text": [
        "\n",
        "Calculating 7 of 25 fitnesses..."
       ]
      },
      {
       "output_type": "stream",
       "stream": "stdout",
       "text": [
        "\n",
        "Calculating 8 of 25 fitnesses..."
       ]
      },
      {
       "output_type": "stream",
       "stream": "stdout",
       "text": [
        "\n",
        "Calculating 9 of 25 fitnesses..."
       ]
      },
      {
       "output_type": "stream",
       "stream": "stdout",
       "text": [
        "\n",
        "Calculating 10 of 25 fitnesses..."
       ]
      },
      {
       "output_type": "stream",
       "stream": "stdout",
       "text": [
        "\n",
        "Calculating 11 of 25 fitnesses..."
       ]
      },
      {
       "output_type": "stream",
       "stream": "stdout",
       "text": [
        "\n",
        "Calculating 12 of 25 fitnesses..."
       ]
      },
      {
       "output_type": "stream",
       "stream": "stdout",
       "text": [
        "\n",
        "Calculating 13 of 25 fitnesses..."
       ]
      },
      {
       "output_type": "stream",
       "stream": "stdout",
       "text": [
        "\n",
        "Calculating 14 of 25 fitnesses..."
       ]
      },
      {
       "output_type": "stream",
       "stream": "stdout",
       "text": [
        "\n",
        "Calculating 15 of 25 fitnesses..."
       ]
      },
      {
       "output_type": "stream",
       "stream": "stdout",
       "text": [
        "\n",
        "Calculating 16 of 25 fitnesses..."
       ]
      },
      {
       "output_type": "stream",
       "stream": "stdout",
       "text": [
        "\n",
        "Calculating 17 of 25 fitnesses..."
       ]
      },
      {
       "output_type": "stream",
       "stream": "stdout",
       "text": [
        "\n",
        "Calculating 18 of 25 fitnesses..."
       ]
      },
      {
       "output_type": "stream",
       "stream": "stdout",
       "text": [
        "\n",
        "Calculating 19 of 25 fitnesses..."
       ]
      },
      {
       "output_type": "stream",
       "stream": "stdout",
       "text": [
        "\n",
        "Calculating 20 of 25 fitnesses..."
       ]
      },
      {
       "output_type": "stream",
       "stream": "stdout",
       "text": [
        "\n",
        "Calculating 21 of 25 fitnesses..."
       ]
      },
      {
       "output_type": "stream",
       "stream": "stdout",
       "text": [
        "\n",
        "Calculating 22 of 25 fitnesses..."
       ]
      },
      {
       "output_type": "stream",
       "stream": "stdout",
       "text": [
        "\n",
        "Calculating 23 of 25 fitnesses..."
       ]
      },
      {
       "output_type": "stream",
       "stream": "stdout",
       "text": [
        "\n",
        "Calculating 24 of 25 fitnesses..."
       ]
      },
      {
       "output_type": "stream",
       "stream": "stdout",
       "text": [
        "\n",
        "Calculating 25 of 25 fitnesses..."
       ]
      },
      {
       "output_type": "stream",
       "stream": "stdout",
       "text": [
        "\n",
        "GA initialised."
       ]
      },
      {
       "output_type": "stream",
       "stream": "stdout",
       "text": [
        "\n"
       ]
      }
     ],
     "prompt_number": 2
    },
    {
     "cell_type": "code",
     "collapsed": false,
     "input": [
      "plt.hist(ga.fitnesses,bins=20)"
     ],
     "language": "python",
     "metadata": {},
     "outputs": [
      {
       "metadata": {},
       "output_type": "pyout",
       "prompt_number": 3,
       "text": [
        "(array([ 1.,  0.,  0.,  0.,  0.,  0.,  0.,  0.,  1.,  1.,  0.,  1.,  1.,\n",
        "         5.,  4.,  8.,  1.,  0.,  1.,  1.]),\n",
        " array([-0.30234355, -0.28238664, -0.26242972, -0.24247281, -0.22251589,\n",
        "        -0.20255897, -0.18260206, -0.16264514, -0.14268823, -0.12273131,\n",
        "        -0.1027744 , -0.08281748, -0.06286057, -0.04290365, -0.02294673,\n",
        "        -0.00298982,  0.0169671 ,  0.03692401,  0.05688093,  0.07683784,\n",
        "         0.09679476]),\n",
        " <a list of 20 Patch objects>)"
       ]
      },
      {
       "metadata": {},
       "output_type": "display_data",
       "png": "[encoded data removed]",
       "text": [
        "<matplotlib.figure.Figure at 0x7fcbf86ef510>"
       ]
      }
     ],
     "prompt_number": 3
    },
    {
     "cell_type": "code",
     "collapsed": false,
     "input": [
      "ga.run(print_output=True)"
     ],
     "language": "python",
     "metadata": {},
     "outputs": [
      {
       "output_type": "stream",
       "stream": "stdout",
       "text": [
        "Starting GA run...\n",
        "N =   0 | Max = 0.096795 | min = -0.302344 | avg = -0.026232 | var = 0.005397"
       ]
      },
      {
       "output_type": "stream",
       "stream": "stdout",
       "text": [
        "\n",
        "N =   1 | Max = 0.096795 | min = -0.302344 | avg = -0.022924 | var = 0.004901"
       ]
      },
      {
       "output_type": "stream",
       "stream": "stdout",
       "text": [
        "\n",
        "N =   2 | Max = 0.096795 | min = -0.302344 | avg = -0.023314 | var = 0.004894"
       ]
      },
      {
       "output_type": "stream",
       "stream": "stdout",
       "text": [
        "\n",
        "N =   3 | Max = 0.158333 | min = -0.302344 | avg = -0.016849 | var = 0.006156"
       ]
      },
      {
       "output_type": "stream",
       "stream": "stdout",
       "text": [
        "\n",
        "N =   4 | Max = 0.158333 | min = -0.302344 | avg = -0.016728 | var = 0.006160"
       ]
      },
      {
       "output_type": "stream",
       "stream": "stdout",
       "text": [
        "\n",
        "N =   5 | Max = 0.158333 | min = -0.302344 | avg = -0.013767 | var = 0.006029"
       ]
      },
      {
       "output_type": "stream",
       "stream": "stdout",
       "text": [
        "\n",
        "N =   6 | Max = 0.158333 | min = -0.302344 | avg = -0.012722 | var = 0.005995"
       ]
      },
      {
       "output_type": "stream",
       "stream": "stdout",
       "text": [
        "\n",
        "N =   7 | Max = 0.158333 | min = -0.302344 | avg = -0.013632 | var = 0.005963"
       ]
      },
      {
       "output_type": "stream",
       "stream": "stdout",
       "text": [
        "\n",
        "N =   8 | Max = 0.158333 | min = -0.302344 | avg = -0.011267 | var = 0.005887"
       ]
      },
      {
       "output_type": "stream",
       "stream": "stdout",
       "text": [
        "\n",
        "N =   9 | Max = 0.158333 | min = -0.302344 | avg = -0.006858 | var = 0.005490"
       ]
      },
      {
       "output_type": "stream",
       "stream": "stdout",
       "text": [
        "\n",
        "N =  10 | Max = 0.158333 | min = -0.302344 | avg = -0.006901 | var = 0.005490"
       ]
      },
      {
       "output_type": "stream",
       "stream": "stdout",
       "text": [
        "\n",
        "N =  11 | Max = 0.158333 | min = -0.302344 | avg = -0.006422 | var = 0.005495"
       ]
      },
      {
       "output_type": "stream",
       "stream": "stdout",
       "text": [
        "\n",
        "N =  12 | Max = 0.158333 | min = -0.161269 | avg = -0.000779 | var = 0.002919"
       ]
      },
      {
       "output_type": "stream",
       "stream": "stdout",
       "text": [
        "\n",
        "N =  13 | Max = 0.158333 | min = -0.161269 | avg = -0.000561 | var = 0.002918"
       ]
      },
      {
       "output_type": "stream",
       "stream": "stdout",
       "text": [
        "\n",
        "N =  14 | Max = 0.158333 | min = -0.054657 | avg = 0.005717 | var = 0.001846"
       ]
      },
      {
       "output_type": "stream",
       "stream": "stdout",
       "text": [
        "\n",
        "N =  15 | Max = 0.158333 | min = -0.054657 | avg = 0.005122 | var = 0.001857"
       ]
      },
      {
       "output_type": "stream",
       "stream": "stdout",
       "text": [
        "\n",
        "N =  16 | Max = 0.158333 | min = -0.054657 | avg = 0.004785 | var = 0.001880"
       ]
      },
      {
       "output_type": "stream",
       "stream": "stdout",
       "text": [
        "\n",
        "N =  17 | Max = 0.158333 | min = -0.054657 | avg = 0.005395 | var = 0.001860"
       ]
      },
      {
       "output_type": "stream",
       "stream": "stdout",
       "text": [
        "\n",
        "N =  18 | Max = 0.158333 | min = -0.054657 | avg = 0.004905 | var = 0.001905"
       ]
      },
      {
       "output_type": "stream",
       "stream": "stdout",
       "text": [
        "\n",
        "N =  19 | Max = 0.158333 | min = -0.054657 | avg = 0.006383 | var = 0.001840"
       ]
      },
      {
       "output_type": "stream",
       "stream": "stdout",
       "text": [
        "\n",
        "N =  20 | Max = 0.158333 | min = -0.047780 | avg = 0.007028 | var = 0.001771"
       ]
      },
      {
       "output_type": "stream",
       "stream": "stdout",
       "text": [
        "\n",
        "N =  21 | Max = 0.158333 | min = -0.054678 | avg = 0.004924 | var = 0.001916"
       ]
      },
      {
       "output_type": "stream",
       "stream": "stdout",
       "text": [
        "\n",
        "N =  22 | Max = 0.158333 | min = -0.047780 | avg = 0.008194 | var = 0.001782"
       ]
      },
      {
       "output_type": "stream",
       "stream": "stdout",
       "text": [
        "\n",
        "N =  23 | Max = 0.158333 | min = -0.066079 | avg = 0.005476 | var = 0.001994"
       ]
      },
      {
       "output_type": "stream",
       "stream": "stdout",
       "text": [
        "\n",
        "N =  24 | Max = 0.158333 | min = -0.066079 | avg = 0.006939 | var = 0.001890"
       ]
      },
      {
       "output_type": "stream",
       "stream": "stdout",
       "text": [
        "\n",
        "N =  25 | Max = 0.158333 | min = -0.066079 | avg = 0.007408 | var = 0.001878"
       ]
      },
      {
       "output_type": "stream",
       "stream": "stdout",
       "text": [
        "\n",
        "N =  26 | Max = 0.158333 | min = -0.066079 | avg = 0.007844 | var = 0.001861"
       ]
      },
      {
       "output_type": "stream",
       "stream": "stdout",
       "text": [
        "\n",
        "N =  27 | Max = 0.237251 | min = -0.066079 | avg = 0.017565 | var = 0.003865"
       ]
      },
      {
       "output_type": "stream",
       "stream": "stdout",
       "text": [
        "\n",
        "N =  28 | Max = 0.237251 | min = -0.066079 | avg = 0.018013 | var = 0.003844"
       ]
      },
      {
       "output_type": "stream",
       "stream": "stdout",
       "text": [
        "\n",
        "N =  29 | Max = 0.237251 | min = -0.066079 | avg = 0.018626 | var = 0.003825"
       ]
      },
      {
       "output_type": "stream",
       "stream": "stdout",
       "text": [
        "\n",
        "N =  30 | Max = 0.237251 | min = -0.038535 | avg = 0.020210 | var = 0.003617"
       ]
      },
      {
       "output_type": "stream",
       "stream": "stdout",
       "text": [
        "\n",
        "N =  31 | Max = 0.237251 | min = -0.038535 | avg = 0.018985 | var = 0.003636"
       ]
      },
      {
       "output_type": "stream",
       "stream": "stdout",
       "text": [
        "\n",
        "N =  32 | Max = 0.237251 | min = -0.038535 | avg = 0.019090 | var = 0.003633"
       ]
      },
      {
       "output_type": "stream",
       "stream": "stdout",
       "text": [
        "\n",
        "N =  33 | Max = 0.237251 | min = -0.038535 | avg = 0.019646 | var = 0.003619"
       ]
      },
      {
       "output_type": "stream",
       "stream": "stdout",
       "text": [
        "\n",
        "N =  34 | Max = 0.237251 | min = -0.038535 | avg = 0.020736 | var = 0.003597"
       ]
      },
      {
       "output_type": "stream",
       "stream": "stdout",
       "text": [
        "\n",
        "N =  35 | Max = 0.237251 | min = -0.038535 | avg = 0.021541 | var = 0.003576"
       ]
      },
      {
       "output_type": "stream",
       "stream": "stdout",
       "text": [
        "\n",
        "N =  36 | Max = 0.237251 | min = -0.038535 | avg = 0.021062 | var = 0.003606"
       ]
      },
      {
       "output_type": "stream",
       "stream": "stdout",
       "text": [
        "\n",
        "N =  37 | Max = 0.237251 | min = -0.038535 | avg = 0.019795 | var = 0.003696"
       ]
      },
      {
       "output_type": "stream",
       "stream": "stdout",
       "text": [
        "\n",
        "N =  38 | Max = 0.237251 | min = -0.038535 | avg = 0.021683 | var = 0.003590"
       ]
      },
      {
       "output_type": "stream",
       "stream": "stdout",
       "text": [
        "\n",
        "N =  39 | Max = 0.237251 | min = -0.038535 | avg = 0.021524 | var = 0.003597"
       ]
      },
      {
       "output_type": "stream",
       "stream": "stdout",
       "text": [
        "\n",
        "N =  40 | Max = 0.237251 | min = -0.061975 | avg = 0.020365 | var = 0.003755"
       ]
      },
      {
       "output_type": "stream",
       "stream": "stdout",
       "text": [
        "\n",
        "N =  41 | Max = 0.237251 | min = -0.061975 | avg = 0.020838 | var = 0.003742"
       ]
      },
      {
       "output_type": "stream",
       "stream": "stdout",
       "text": [
        "\n",
        "N =  42 | Max = 0.237251 | min = -0.061975 | avg = 0.021321 | var = 0.003712"
       ]
      },
      {
       "output_type": "stream",
       "stream": "stdout",
       "text": [
        "\n",
        "N =  43 | Max = 0.237251 | min = -0.061975 | avg = 0.022007 | var = 0.003694"
       ]
      },
      {
       "output_type": "stream",
       "stream": "stdout",
       "text": [
        "\n",
        "N =  44 | Max = 0.237251 | min = -0.061975 | avg = 0.022770 | var = 0.003681"
       ]
      },
      {
       "output_type": "stream",
       "stream": "stdout",
       "text": [
        "\n",
        "N =  45 | Max = 0.237251 | min = -0.061975 | avg = 0.025098 | var = 0.003526"
       ]
      },
      {
       "output_type": "stream",
       "stream": "stdout",
       "text": [
        "\n",
        "N =  46 | Max = 0.237251 | min = -0.061975 | avg = 0.024957 | var = 0.003532"
       ]
      },
      {
       "output_type": "stream",
       "stream": "stdout",
       "text": [
        "\n",
        "N =  47 | Max = 0.237251 | min = -0.061975 | avg = 0.026081 | var = 0.003506"
       ]
      },
      {
       "output_type": "stream",
       "stream": "stdout",
       "text": [
        "\n",
        "N =  48 | Max = 0.237251 | min = -0.061975 | avg = 0.025106 | var = 0.003549"
       ]
      },
      {
       "output_type": "stream",
       "stream": "stdout",
       "text": [
        "\n",
        "N =  49 | Max = 0.237251 | min = -0.061975 | avg = 0.025531 | var = 0.003529"
       ]
      },
      {
       "output_type": "stream",
       "stream": "stdout",
       "text": [
        "\n",
        "N =  50 | Max = 0.237251 | min = -0.029662 | avg = 0.030464 | var = 0.003250"
       ]
      },
      {
       "output_type": "stream",
       "stream": "stdout",
       "text": [
        "\n",
        "N =  51 | Max = 0.237251 | min = -0.029662 | avg = 0.030936 | var = 0.003232"
       ]
      },
      {
       "output_type": "stream",
       "stream": "stdout",
       "text": [
        "\n",
        "N =  52 | Max = 0.237251 | min = -0.029662 | avg = 0.030008 | var = 0.003273"
       ]
      },
      {
       "output_type": "stream",
       "stream": "stdout",
       "text": [
        "\n",
        "N =  53 | Max = 0.237251 | min = -0.029662 | avg = 0.039989 | var = 0.004537"
       ]
      },
      {
       "output_type": "stream",
       "stream": "stdout",
       "text": [
        "\n",
        "N =  54 | Max = 0.237251 | min = -0.029662 | avg = 0.039989 | var = 0.004537"
       ]
      },
      {
       "output_type": "stream",
       "stream": "stdout",
       "text": [
        "\n",
        "N =  55 | Max = 0.237251 | min = -0.029662 | avg = 0.039405 | var = 0.004572"
       ]
      },
      {
       "output_type": "stream",
       "stream": "stdout",
       "text": [
        "\n",
        "N =  56 | Max = 0.237251 | min = -0.029662 | avg = 0.039121 | var = 0.004592"
       ]
      },
      {
       "output_type": "stream",
       "stream": "stdout",
       "text": [
        "\n",
        "N =  57 | Max = 0.237251 | min = -1.599290 | avg = -0.027305 | var = 0.107535"
       ]
      },
      {
       "output_type": "stream",
       "stream": "stdout",
       "text": [
        "\n",
        "N =  58 | Max = 0.237251 | min = -1.599290 | avg = -0.027824 | var = 0.107495"
       ]
      },
      {
       "output_type": "stream",
       "stream": "stdout",
       "text": [
        "\n",
        "N =  59 | Max = 0.237251 | min = -1.599290 | avg = -0.027972 | var = 0.107487"
       ]
      },
      {
       "output_type": "stream",
       "stream": "stdout",
       "text": [
        "\n",
        "N =  60 | Max = 0.237251 | min = -1.599290 | avg = -0.018562 | var = 0.110139"
       ]
      },
      {
       "output_type": "stream",
       "stream": "stdout",
       "text": [
        "\n",
        "N =  61 | Max = 0.237251 | min = -0.029662 | avg = 0.045159 | var = 0.006136"
       ]
      },
      {
       "output_type": "stream",
       "stream": "stdout",
       "text": [
        "\n",
        "N =  62 | Max = 0.237251 | min = -0.008313 | avg = 0.046022 | var = 0.006025"
       ]
      },
      {
       "output_type": "stream",
       "stream": "stdout",
       "text": [
        "\n",
        "N =  63 | Max = 0.237251 | min = -0.048394 | avg = 0.043646 | var = 0.006327"
       ]
      },
      {
       "output_type": "stream",
       "stream": "stdout",
       "text": [
        "\n",
        "N =  64 | Max = 0.237251 | min = -0.048394 | avg = 0.042286 | var = 0.006426"
       ]
      },
      {
       "output_type": "stream",
       "stream": "stdout",
       "text": [
        "\n",
        "N =  65 | Max = 0.237251 | min = -0.048394 | avg = 0.042871 | var = 0.006380"
       ]
      },
      {
       "output_type": "stream",
       "stream": "stdout",
       "text": [
        "\n",
        "N =  66 | Max = 0.237251 | min = -1.152566 | avg = -0.002981 | var = 0.061344"
       ]
      },
      {
       "output_type": "stream",
       "stream": "stdout",
       "text": [
        "\n",
        "N =  67 | Max = 0.237251 | min = -1.152566 | avg = -0.002863 | var = 0.061344"
       ]
      },
      {
       "output_type": "stream",
       "stream": "stdout",
       "text": [
        "\n",
        "N =  68 | Max = 0.237251 | min = -1.152566 | avg = -0.003029 | var = 0.061342"
       ]
      },
      {
       "output_type": "stream",
       "stream": "stdout",
       "text": [
        "\n",
        "N =  69 | Max = 0.237251 | min = -1.152566 | avg = -0.002509 | var = 0.061351"
       ]
      },
      {
       "output_type": "stream",
       "stream": "stdout",
       "text": [
        "\n",
        "N =  70 | Max = 0.237251 | min = -1.152566 | avg = -0.002514 | var = 0.061351"
       ]
      },
      {
       "output_type": "stream",
       "stream": "stdout",
       "text": [
        "\n",
        "N =  71 | Max = 0.237251 | min = -0.048394 | avg = 0.044384 | var = 0.006267"
       ]
      },
      {
       "output_type": "stream",
       "stream": "stdout",
       "text": [
        "\n",
        "N =  72 | Max = 0.237251 | min = -0.048394 | avg = 0.044738 | var = 0.006231"
       ]
      },
      {
       "output_type": "stream",
       "stream": "stdout",
       "text": [
        "\n",
        "N =  73 | Max = 0.237251 | min = -0.048394 | avg = 0.049165 | var = 0.006888"
       ]
      },
      {
       "output_type": "stream",
       "stream": "stdout",
       "text": [
        "\n",
        "N =  74 | Max = 0.237251 | min = -0.048394 | avg = 0.049220 | var = 0.006883"
       ]
      },
      {
       "output_type": "stream",
       "stream": "stdout",
       "text": [
        "\n",
        "N =  75 | Max = 0.237251 | min = -0.048394 | avg = 0.049643 | var = 0.006838"
       ]
      },
      {
       "output_type": "stream",
       "stream": "stdout",
       "text": [
        "\n",
        "N =  76 | Max = 0.237251 | min = -0.048394 | avg = 0.042758 | var = 0.006230"
       ]
      },
      {
       "output_type": "stream",
       "stream": "stdout",
       "text": [
        "\n",
        "N =  77 | Max = 0.237251 | min = -0.072886 | avg = 0.039433 | var = 0.006711"
       ]
      },
      {
       "output_type": "stream",
       "stream": "stdout",
       "text": [
        "\n",
        "N =  78 | Max = 0.237251 | min = -0.072886 | avg = 0.039050 | var = 0.006742"
       ]
      },
      {
       "output_type": "stream",
       "stream": "stdout",
       "text": [
        "\n",
        "N =  79 | Max = 0.237251 | min = -0.072886 | avg = 0.039137 | var = 0.006735"
       ]
      },
      {
       "output_type": "stream",
       "stream": "stdout",
       "text": [
        "\n",
        "N =  80 | Max = 0.237251 | min = -0.072886 | avg = 0.040387 | var = 0.006681"
       ]
      },
      {
       "output_type": "stream",
       "stream": "stdout",
       "text": [
        "\n",
        "N =  81 | Max = 0.237251 | min = -0.072886 | avg = 0.040190 | var = 0.006697"
       ]
      },
      {
       "output_type": "stream",
       "stream": "stdout",
       "text": [
        "\n",
        "N =  82 | Max = 0.237251 | min = -0.072886 | avg = 0.030879 | var = 0.005372"
       ]
      },
      {
       "output_type": "stream",
       "stream": "stdout",
       "text": [
        "\n",
        "N =  83 | Max = 0.237251 | min = -0.072886 | avg = 0.031061 | var = 0.005359"
       ]
      },
      {
       "output_type": "stream",
       "stream": "stdout",
       "text": [
        "\n",
        "N =  84 | Max = 0.237251 | min = -0.072886 | avg = 0.031543 | var = 0.005335"
       ]
      },
      {
       "output_type": "stream",
       "stream": "stdout",
       "text": [
        "\n",
        "N =  85 | Max = 0.237251 | min = -0.072886 | avg = 0.030887 | var = 0.005363"
       ]
      },
      {
       "output_type": "stream",
       "stream": "stdout",
       "text": [
        "\n",
        "N =  86 | Max = 0.237251 | min = -0.072886 | avg = 0.029963 | var = 0.005450"
       ]
      },
      {
       "output_type": "stream",
       "stream": "stdout",
       "text": [
        "\n",
        "N =  87 | Max = 0.237251 | min = -0.072886 | avg = 0.030088 | var = 0.005442"
       ]
      },
      {
       "output_type": "stream",
       "stream": "stdout",
       "text": [
        "\n",
        "N =  88 | Max = 0.237251 | min = -0.072886 | avg = 0.030118 | var = 0.005441"
       ]
      },
      {
       "output_type": "stream",
       "stream": "stdout",
       "text": [
        "\n",
        "N =  89 | Max = 0.237251 | min = -0.072886 | avg = 0.029676 | var = 0.005461"
       ]
      },
      {
       "output_type": "stream",
       "stream": "stdout",
       "text": [
        "\n",
        "N =  90 | Max = 0.237251 | min = -0.072886 | avg = 0.029838 | var = 0.005452"
       ]
      },
      {
       "output_type": "stream",
       "stream": "stdout",
       "text": [
        "\n",
        "N =  91 | Max = 0.237251 | min = -0.072886 | avg = 0.031879 | var = 0.005232"
       ]
      },
      {
       "output_type": "stream",
       "stream": "stdout",
       "text": [
        "\n",
        "N =  92 | Max = 0.237251 | min = -0.072886 | avg = 0.031084 | var = 0.005267"
       ]
      },
      {
       "output_type": "stream",
       "stream": "stdout",
       "text": [
        "\n",
        "N =  93 | Max = 0.237251 | min = -0.072886 | avg = 0.030676 | var = 0.005304"
       ]
      },
      {
       "output_type": "stream",
       "stream": "stdout",
       "text": [
        "\n",
        "N =  94 | Max = 0.237251 | min = -0.072886 | avg = 0.031128 | var = 0.005282"
       ]
      },
      {
       "output_type": "stream",
       "stream": "stdout",
       "text": [
        "\n",
        "N =  95 | Max = 0.237251 | min = -0.072886 | avg = 0.030075 | var = 0.005350"
       ]
      },
      {
       "output_type": "stream",
       "stream": "stdout",
       "text": [
        "\n",
        "N =  96 | Max = 0.237251 | min = -0.072886 | avg = 0.030069 | var = 0.005350"
       ]
      },
      {
       "output_type": "stream",
       "stream": "stdout",
       "text": [
        "\n",
        "N =  97 | Max = 0.237251 | min = -0.072886 | avg = 0.030066 | var = 0.005350"
       ]
      },
      {
       "output_type": "stream",
       "stream": "stdout",
       "text": [
        "\n",
        "N =  98 | Max = 0.237251 | min = -0.072886 | avg = 0.031196 | var = 0.005249"
       ]
      },
      {
       "output_type": "stream",
       "stream": "stdout",
       "text": [
        "\n",
        "N =  99 | Max = 0.237251 | min = -0.072886 | avg = 0.031604 | var = 0.005247"
       ]
      },
      {
       "output_type": "stream",
       "stream": "stdout",
       "text": [
        "\n",
        "N = 100 | Max = 0.237251 | min = -0.072886 | avg = 0.032792 | var = 0.005206"
       ]
      },
      {
       "output_type": "stream",
       "stream": "stdout",
       "text": [
        "\n",
        "N = 101 | Max = 0.237251 | min = -0.072886 | avg = 0.033274 | var = 0.005181"
       ]
      },
      {
       "output_type": "stream",
       "stream": "stdout",
       "text": [
        "\n",
        "N = 102 | Max = 0.237251 | min = -0.072886 | avg = 0.033252 | var = 0.005183"
       ]
      },
      {
       "output_type": "stream",
       "stream": "stdout",
       "text": [
        "\n",
        "N = 103 | Max = 0.237251 | min = -0.072886 | avg = 0.030554 | var = 0.005468"
       ]
      },
      {
       "output_type": "stream",
       "stream": "stdout",
       "text": [
        "\n",
        "N = 104 | Max = 0.237251 | min = -0.072886 | avg = 0.030696 | var = 0.005459"
       ]
      },
      {
       "output_type": "stream",
       "stream": "stdout",
       "text": [
        "\n",
        "N = 105 | Max = 0.237251 | min = -0.072886 | avg = 0.030532 | var = 0.005469"
       ]
      },
      {
       "output_type": "stream",
       "stream": "stdout",
       "text": [
        "\n",
        "N = 106 | Max = 0.237251 | min = -0.072886 | avg = 0.031189 | var = 0.005440"
       ]
      },
      {
       "output_type": "stream",
       "stream": "stdout",
       "text": [
        "\n",
        "N = 107 | Max = 0.237251 | min = -0.072886 | avg = 0.034829 | var = 0.005674"
       ]
      },
      {
       "output_type": "stream",
       "stream": "stdout",
       "text": [
        "\n",
        "N = 108 | Max = 0.237251 | min = -0.072886 | avg = 0.029242 | var = 0.005576"
       ]
      },
      {
       "output_type": "stream",
       "stream": "stdout",
       "text": [
        "\n",
        "N = 109 | Max = 0.237251 | min = -0.072886 | avg = 0.027932 | var = 0.005616"
       ]
      },
      {
       "output_type": "stream",
       "stream": "stdout",
       "text": [
        "\n",
        "N = 110 | Max = 0.237251 | min = -0.072886 | avg = 0.029412 | var = 0.005585"
       ]
      },
      {
       "output_type": "stream",
       "stream": "stdout",
       "text": [
        "\n",
        "N = 111 | Max = 0.237251 | min = -0.072886 | avg = 0.030441 | var = 0.005555"
       ]
      },
      {
       "output_type": "stream",
       "stream": "stdout",
       "text": [
        "\n",
        "N = 112 | Max = 0.237251 | min = -0.072886 | avg = 0.031017 | var = 0.005526"
       ]
      },
      {
       "output_type": "stream",
       "stream": "stdout",
       "text": [
        "\n",
        "N = 113 | Max = 0.237251 | min = -0.072886 | avg = 0.033206 | var = 0.005266"
       ]
      },
      {
       "output_type": "stream",
       "stream": "stdout",
       "text": [
        "\n",
        "N = 114 | Max = 0.237251 | min = -0.072886 | avg = 0.031773 | var = 0.005374"
       ]
      },
      {
       "output_type": "stream",
       "stream": "stdout",
       "text": [
        "\n",
        "N = 115 | Max = 0.237251 | min = -0.072886 | avg = 0.031700 | var = 0.005379"
       ]
      },
      {
       "output_type": "stream",
       "stream": "stdout",
       "text": [
        "\n",
        "N = 116 | Max = 0.237251 | min = -0.029020 | avg = 0.034181 | var = 0.005007"
       ]
      },
      {
       "output_type": "stream",
       "stream": "stdout",
       "text": [
        "\n",
        "N = 117 | Max = 0.237251 | min = -0.029020 | avg = 0.038262 | var = 0.005010"
       ]
      },
      {
       "output_type": "stream",
       "stream": "stdout",
       "text": [
        "\n",
        "N = 118 | Max = 0.237251 | min = -0.029020 | avg = 0.038038 | var = 0.005029"
       ]
      },
      {
       "output_type": "stream",
       "stream": "stdout",
       "text": [
        "\n",
        "N = 119 | Max = 0.237251 | min = -0.029020 | avg = 0.041280 | var = 0.005124"
       ]
      },
      {
       "output_type": "stream",
       "stream": "stdout",
       "text": [
        "\n",
        "N = 120 | Max = 0.237251 | min = -0.029020 | avg = 0.041729 | var = 0.005082"
       ]
      },
      {
       "output_type": "stream",
       "stream": "stdout",
       "text": [
        "\n",
        "N = 121 | Max = 0.237251 | min = -0.029020 | avg = 0.042329 | var = 0.005030"
       ]
      },
      {
       "output_type": "stream",
       "stream": "stdout",
       "text": [
        "\n",
        "N = 122 | Max = 0.237251 | min = -0.029020 | avg = 0.042156 | var = 0.005053"
       ]
      },
      {
       "output_type": "stream",
       "stream": "stdout",
       "text": [
        "\n",
        "N = 123 | Max = 0.237251 | min = -0.029020 | avg = 0.045002 | var = 0.004869"
       ]
      },
      {
       "output_type": "stream",
       "stream": "stdout",
       "text": [
        "\n",
        "N = 124 | Max = 0.237251 | min = -0.029020 | avg = 0.049560 | var = 0.004942"
       ]
      },
      {
       "output_type": "stream",
       "stream": "stdout",
       "text": [
        "\n",
        "N = 125 | Max = 0.237251 | min = -0.029020 | avg = 0.047223 | var = 0.004896"
       ]
      },
      {
       "output_type": "stream",
       "stream": "stdout",
       "text": [
        "\n",
        "N = 126 | Max = 0.237251 | min = -0.102842 | avg = 0.043243 | var = 0.005679"
       ]
      },
      {
       "output_type": "stream",
       "stream": "stdout",
       "text": [
        "\n",
        "N = 127 | Max = 0.237251 | min = -0.102842 | avg = 0.043744 | var = 0.005641"
       ]
      },
      {
       "output_type": "stream",
       "stream": "stdout",
       "text": [
        "\n",
        "N = 128 | Max = 0.237251 | min = -0.102842 | avg = 0.046573 | var = 0.005455"
       ]
      },
      {
       "output_type": "stream",
       "stream": "stdout",
       "text": [
        "\n",
        "N = 129 | Max = 0.237251 | min = -0.102842 | avg = 0.048139 | var = 0.005368"
       ]
      },
      {
       "output_type": "stream",
       "stream": "stdout",
       "text": [
        "\n",
        "N = 130 | Max = 0.237251 | min = -0.102842 | avg = 0.047381 | var = 0.005454"
       ]
      },
      {
       "output_type": "stream",
       "stream": "stdout",
       "text": [
        "\n",
        "N = 131 | Max = 0.237251 | min = -0.286347 | avg = 0.035498 | var = 0.009714"
       ]
      },
      {
       "output_type": "stream",
       "stream": "stdout",
       "text": [
        "\n",
        "N = 132 | Max = 0.237251 | min = -0.286347 | avg = 0.035267 | var = 0.009730"
       ]
      },
      {
       "output_type": "stream",
       "stream": "stdout",
       "text": [
        "\n",
        "N = 133 | Max = 0.237251 | min = -0.286347 | avg = 0.037129 | var = 0.009706"
       ]
      },
      {
       "output_type": "stream",
       "stream": "stdout",
       "text": [
        "\n",
        "N = 134 | Max = 0.237251 | min = -0.286347 | avg = 0.036779 | var = 0.009709"
       ]
      },
      {
       "output_type": "stream",
       "stream": "stdout",
       "text": [
        "\n",
        "N = 135 | Max = 0.237251 | min = -0.286347 | avg = 0.032476 | var = 0.009637"
       ]
      },
      {
       "output_type": "stream",
       "stream": "stdout",
       "text": [
        "\n",
        "N = 136 | Max = 0.237251 | min = -0.286347 | avg = 0.030254 | var = 0.009774"
       ]
      },
      {
       "output_type": "stream",
       "stream": "stdout",
       "text": [
        "\n",
        "N = 137 | Max = 0.237251 | min = -0.286347 | avg = 0.029770 | var = 0.009811"
       ]
      },
      {
       "output_type": "stream",
       "stream": "stdout",
       "text": [
        "\n",
        "N = 138 | Max = 0.237251 | min = -0.286347 | avg = 0.030101 | var = 0.009787"
       ]
      },
      {
       "output_type": "stream",
       "stream": "stdout",
       "text": [
        "\n",
        "N = 139 | Max = 0.237251 | min = -0.102842 | avg = 0.042381 | var = 0.005634"
       ]
      },
      {
       "output_type": "stream",
       "stream": "stdout",
       "text": [
        "\n",
        "N = 140 | Max = 0.237251 | min = -0.102842 | avg = 0.043310 | var = 0.005525"
       ]
      },
      {
       "output_type": "stream",
       "stream": "stdout",
       "text": [
        "\n",
        "N = 141 | Max = 0.237251 | min = -0.102842 | avg = 0.041411 | var = 0.005598"
       ]
      },
      {
       "output_type": "stream",
       "stream": "stdout",
       "text": [
        "\n",
        "N = 142 | Max = 0.237251 | min = -0.102842 | avg = 0.040959 | var = 0.005629"
       ]
      },
      {
       "output_type": "stream",
       "stream": "stdout",
       "text": [
        "\n",
        "N = 143 | Max = 0.237251 | min = -0.102842 | avg = 0.041634 | var = 0.005566"
       ]
      },
      {
       "output_type": "stream",
       "stream": "stdout",
       "text": [
        "\n",
        "N = 144 | Max = 0.237251 | min = -0.102842 | avg = 0.041813 | var = 0.005550"
       ]
      },
      {
       "output_type": "stream",
       "stream": "stdout",
       "text": [
        "\n",
        "N = 145 | Max = 0.237251 | min = -0.102842 | avg = 0.041069 | var = 0.005605"
       ]
      },
      {
       "output_type": "stream",
       "stream": "stdout",
       "text": [
        "\n",
        "N = 146 | Max = 0.237251 | min = -0.102842 | avg = 0.040305 | var = 0.005680"
       ]
      },
      {
       "output_type": "stream",
       "stream": "stdout",
       "text": [
        "\n",
        "N = 147 | Max = 0.237251 | min = -0.102842 | avg = 0.039283 | var = 0.005789"
       ]
      },
      {
       "output_type": "stream",
       "stream": "stdout",
       "text": [
        "\n",
        "N = 148 | Max = 0.237251 | min = -0.102842 | avg = 0.040026 | var = 0.005716"
       ]
      },
      {
       "output_type": "stream",
       "stream": "stdout",
       "text": [
        "\n",
        "N = 149 | Max = 0.237251 | min = -0.102842 | avg = 0.038856 | var = 0.005774"
       ]
      },
      {
       "output_type": "stream",
       "stream": "stdout",
       "text": [
        "\n",
        "N = 150 | Max = 0.237251 | min = -0.102842 | avg = 0.038027 | var = 0.005821"
       ]
      },
      {
       "output_type": "stream",
       "stream": "stdout",
       "text": [
        "\n",
        "N = 151 | Max = 0.237251 | min = -0.102842 | avg = 0.039845 | var = 0.005697"
       ]
      },
      {
       "output_type": "stream",
       "stream": "stdout",
       "text": [
        "\n",
        "N = 152 | Max = 0.237251 | min = -0.102842 | avg = 0.039601 | var = 0.005711"
       ]
      },
      {
       "output_type": "stream",
       "stream": "stdout",
       "text": [
        "\n",
        "N = 153 | Max = 0.237251 | min = -0.102842 | avg = 0.036566 | var = 0.005597"
       ]
      },
      {
       "output_type": "stream",
       "stream": "stdout",
       "text": [
        "\n",
        "N = 154 | Max = 0.237251 | min = -0.102842 | avg = 0.035048 | var = 0.005661"
       ]
      },
      {
       "output_type": "stream",
       "stream": "stdout",
       "text": [
        "\n",
        "N = 155 | Max = 0.237251 | min = -0.102842 | avg = 0.036225 | var = 0.005550"
       ]
      },
      {
       "output_type": "stream",
       "stream": "stdout",
       "text": [
        "\n",
        "N = 156 | Max = 0.237251 | min = -0.102842 | avg = 0.038292 | var = 0.005616"
       ]
      },
      {
       "output_type": "stream",
       "stream": "stdout",
       "text": [
        "\n",
        "N = 157 | Max = 0.237251 | min = -0.102842 | avg = 0.036368 | var = 0.005853"
       ]
      },
      {
       "output_type": "stream",
       "stream": "stdout",
       "text": [
        "\n",
        "N = 158 | Max = 0.237251 | min = -0.102842 | avg = 0.036364 | var = 0.005853"
       ]
      },
      {
       "output_type": "stream",
       "stream": "stdout",
       "text": [
        "\n",
        "N = 159 | Max = 0.237251 | min = -0.102842 | avg = 0.039723 | var = 0.005925"
       ]
      },
      {
       "output_type": "stream",
       "stream": "stdout",
       "text": [
        "\n",
        "N = 160 | Max = 0.237251 | min = -0.102842 | avg = 0.041371 | var = 0.005763"
       ]
      },
      {
       "output_type": "stream",
       "stream": "stdout",
       "text": [
        "\n",
        "N = 161 | Max = 0.237251 | min = -0.102842 | avg = 0.040791 | var = 0.005820"
       ]
      },
      {
       "output_type": "stream",
       "stream": "stdout",
       "text": [
        "\n",
        "N = 162 | Max = 0.237251 | min = -0.102842 | avg = 0.041137 | var = 0.005761"
       ]
      },
      {
       "output_type": "stream",
       "stream": "stdout",
       "text": [
        "\n",
        "N = 163 | Max = 0.237251 | min = -0.102842 | avg = 0.039736 | var = 0.005889"
       ]
      },
      {
       "output_type": "stream",
       "stream": "stdout",
       "text": [
        "\n",
        "N = 164 | Max = 0.237251 | min = -0.102842 | avg = 0.038683 | var = 0.005941"
       ]
      },
      {
       "output_type": "stream",
       "stream": "stdout",
       "text": [
        "\n",
        "N = 165 | Max = 0.237251 | min = -0.102842 | avg = 0.039329 | var = 0.005882"
       ]
      },
      {
       "output_type": "stream",
       "stream": "stdout",
       "text": [
        "\n",
        "N = 166 | Max = 0.237251 | min = -0.102842 | avg = 0.039182 | var = 0.005894"
       ]
      },
      {
       "output_type": "stream",
       "stream": "stdout",
       "text": [
        "\n",
        "N = 167 | Max = 0.237251 | min = -0.102842 | avg = 0.035823 | var = 0.006456"
       ]
      },
      {
       "output_type": "stream",
       "stream": "stdout",
       "text": [
        "\n",
        "N = 168 | Max = 0.237251 | min = -0.102842 | avg = 0.036242 | var = 0.006431"
       ]
      },
      {
       "output_type": "stream",
       "stream": "stdout",
       "text": [
        "\n",
        "N = 169 | Max = 0.237251 | min = -0.102842 | avg = 0.036184 | var = 0.006435"
       ]
      },
      {
       "output_type": "stream",
       "stream": "stdout",
       "text": [
        "\n",
        "N = 170 | Max = 0.237251 | min = -0.088111 | avg = 0.042738 | var = 0.005644"
       ]
      },
      {
       "output_type": "stream",
       "stream": "stdout",
       "text": [
        "\n",
        "N = 171 | Max = 0.237251 | min = -0.039549 | avg = 0.045482 | var = 0.005107"
       ]
      },
      {
       "output_type": "stream",
       "stream": "stdout",
       "text": [
        "\n",
        "N = 172 | Max = 0.237251 | min = -0.039549 | avg = 0.045574 | var = 0.005099"
       ]
      },
      {
       "output_type": "stream",
       "stream": "stdout",
       "text": [
        "\n",
        "N = 173 | Max = 0.237251 | min = -0.039549 | avg = 0.050335 | var = 0.005232"
       ]
      },
      {
       "output_type": "stream",
       "stream": "stdout",
       "text": [
        "\n",
        "N = 174 | Max = 0.237251 | min = -0.181713 | avg = 0.041164 | var = 0.007302"
       ]
      },
      {
       "output_type": "stream",
       "stream": "stdout",
       "text": [
        "\n",
        "N = 175 | Max = 0.237251 | min = -0.181713 | avg = 0.036924 | var = 0.007634"
       ]
      },
      {
       "output_type": "stream",
       "stream": "stdout",
       "text": [
        "\n",
        "N = 176 | Max = 0.237251 | min = -0.181713 | avg = 0.034207 | var = 0.008010"
       ]
      },
      {
       "output_type": "stream",
       "stream": "stdout",
       "text": [
        "\n",
        "N = 177 | Max = 0.237251 | min = -0.181713 | avg = 0.035095 | var = 0.007933"
       ]
      },
      {
       "output_type": "stream",
       "stream": "stdout",
       "text": [
        "\n",
        "N = 178 | Max = 0.237251 | min = -0.457814 | avg = 0.018906 | var = 0.017079"
       ]
      },
      {
       "output_type": "stream",
       "stream": "stdout",
       "text": [
        "\n",
        "N = 179 | Max = 0.237251 | min = -0.457814 | avg = 0.006925 | var = 0.020898"
       ]
      },
      {
       "output_type": "stream",
       "stream": "stdout",
       "text": [
        "\n",
        "N = 180 | Max = 0.237251 | min = -0.457814 | avg = 0.015946 | var = 0.017381"
       ]
      },
      {
       "output_type": "stream",
       "stream": "stdout",
       "text": [
        "\n",
        "N = 181 | Max = 0.237251 | min = -0.457814 | avg = 0.013690 | var = 0.017499"
       ]
      },
      {
       "output_type": "stream",
       "stream": "stdout",
       "text": [
        "\n",
        "N = 182 | Max = 0.237251 | min = -0.457814 | avg = 0.014571 | var = 0.017453"
       ]
      },
      {
       "output_type": "stream",
       "stream": "stdout",
       "text": [
        "\n",
        "N = 183 | Max = 0.237251 | min = -0.457814 | avg = 0.014160 | var = 0.017473"
       ]
      },
      {
       "output_type": "stream",
       "stream": "stdout",
       "text": [
        "\n",
        "N = 184 | Max = 0.237251 | min = -0.457814 | avg = 0.018519 | var = 0.017462"
       ]
      },
      {
       "output_type": "stream",
       "stream": "stdout",
       "text": [
        "\n",
        "N = 185 | Max = 0.237251 | min = -0.457814 | avg = 0.019849 | var = 0.017275"
       ]
      },
      {
       "output_type": "stream",
       "stream": "stdout",
       "text": [
        "\n",
        "N = 186 | Max = 0.237251 | min = -0.457814 | avg = 0.016181 | var = 0.017495"
       ]
      },
      {
       "output_type": "stream",
       "stream": "stdout",
       "text": [
        "\n",
        "N = 187 | Max = 0.237251 | min = -0.457814 | avg = 0.007627 | var = 0.018484"
       ]
      },
      {
       "output_type": "stream",
       "stream": "stdout",
       "text": [
        "\n",
        "N = 188 | Max = 0.237251 | min = -0.457814 | avg = 0.010861 | var = 0.018808"
       ]
      },
      {
       "output_type": "stream",
       "stream": "stdout",
       "text": [
        "\n",
        "N = 189 | Max = 0.237251 | min = -0.457814 | avg = 0.013202 | var = 0.018618"
       ]
      },
      {
       "output_type": "stream",
       "stream": "stdout",
       "text": [
        "\n",
        "N = 190 | Max = 0.237251 | min = -0.181713 | avg = 0.031515 | var = 0.009415"
       ]
      },
      {
       "output_type": "stream",
       "stream": "stdout",
       "text": [
        "\n",
        "N = 191 | Max = 0.237251 | min = -0.181713 | avg = 0.035088 | var = 0.008991"
       ]
      },
      {
       "output_type": "stream",
       "stream": "stdout",
       "text": [
        "\n",
        "N = 192 | Max = 0.237251 | min = -0.181713 | avg = 0.034822 | var = 0.009010"
       ]
      },
      {
       "output_type": "stream",
       "stream": "stdout",
       "text": [
        "\n",
        "N = 193 | Max = 0.237251 | min = -0.181713 | avg = 0.037653 | var = 0.008811"
       ]
      },
      {
       "output_type": "stream",
       "stream": "stdout",
       "text": [
        "\n",
        "N = 194 | Max = 0.237251 | min = -0.181713 | avg = 0.039345 | var = 0.008754"
       ]
      },
      {
       "output_type": "stream",
       "stream": "stdout",
       "text": [
        "\n",
        "N = 195 | Max = 0.237251 | min = -0.181713 | avg = 0.037164 | var = 0.009040"
       ]
      },
      {
       "output_type": "stream",
       "stream": "stdout",
       "text": [
        "\n",
        "N = 196 | Max = 0.237251 | min = -0.152825 | avg = 0.044424 | var = 0.007127"
       ]
      },
      {
       "output_type": "stream",
       "stream": "stdout",
       "text": [
        "\n",
        "N = 197 | Max = 0.237251 | min = -0.054537 | avg = 0.049901 | var = 0.005686"
       ]
      },
      {
       "output_type": "stream",
       "stream": "stdout",
       "text": [
        "\n",
        "N = 198 | Max = 0.237251 | min = -0.054537 | avg = 0.046785 | var = 0.005738"
       ]
      },
      {
       "output_type": "stream",
       "stream": "stdout",
       "text": [
        "\n",
        "N = 199 | Max = 0.237251 | min = -0.054537 | avg = 0.051054 | var = 0.005769"
       ]
      },
      {
       "output_type": "stream",
       "stream": "stdout",
       "text": [
        "\n",
        "Finished\n"
       ]
      }
     ],
     "prompt_number": 4
    },
    {
     "cell_type": "code",
     "collapsed": false,
     "input": [
      "maxFits = ([stats.maxFit for stats in ga.stats])\n",
      "plt.plot(np.arange(len(maxFits)),maxFits)\n",
      "minFits = ([stats.minFit for stats in ga.stats])\n",
      "plt.plot(np.arange(len(maxFits)),minFits)\n",
      "avgFits = ([stats.avgFit for stats in ga.stats])\n",
      "plt.plot(np.arange(len(maxFits)),avgFits)\n",
      "plt.figure()\n",
      "varis = ([stats.variance for stats in ga.stats])\n",
      "plt.plot(np.arange(len(maxFits)),varis)"
     ],
     "language": "python",
     "metadata": {},
     "outputs": [
      {
       "metadata": {},
       "output_type": "pyout",
       "prompt_number": 5,
       "text": [
        "[<matplotlib.lines.Line2D at 0x7fcbd97f1bd0>]"
       ]
      },
      {
       "metadata": {},
       "output_type": "display_data",
       "png": "[encoded data removed]",
       "text": [
        "<matplotlib.figure.Figure at 0x7fcbd99ad0d0>"
       ]
      },
      {
       "metadata": {},
       "output_type": "display_data",
       "png": "[encoded data removed]",
       "text": [
        "<matplotlib.figure.Figure at 0x7fcbf86efcd0>"
       ]
      }
     ],
     "prompt_number": 5
    },
    {
     "cell_type": "code",
     "collapsed": false,
     "input": [
      "bestI = np.argmax(ga.fitnesses)\n",
      "bestG = ga.pop[bestI]\n",
      "print(bestG.genes)\n",
      "v = Visualiser(bestG)"
     ],
     "language": "python",
     "metadata": {},
     "outputs": [
      {
       "output_type": "stream",
       "stream": "stdout",
       "text": [
        "[-0.17342746 -0.32619015  0.58814367  0.37805491 -0.47552454  0.29323727\n",
        " -0.51220362  0.69585794  0.50176397  0.41720623 -0.18619491  0.93505287\n",
        "  0.98995667 -0.51721339 -0.04677122]\n"
       ]
      }
     ],
     "prompt_number": 9
    }
   ],
   "metadata": {}
  }
 ]
}