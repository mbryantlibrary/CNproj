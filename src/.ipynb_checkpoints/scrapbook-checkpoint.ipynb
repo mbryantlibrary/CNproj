{
 "cells": [
  {
   "cell_type": "code",
   "execution_count": 9,
   "metadata": {
    "collapsed": false
   },
   "outputs": [
    {
     "name": "stdout",
     "output_type": "stream",
     "text": [
      "N:\\workspace\\CNProj\\src\n"
     ]
    }
   ],
   "source": [
    "%cd N:\\workspace\\CNProj\\src"
   ]
  },
  {
   "cell_type": "code",
   "execution_count": 11,
   "metadata": {
    "collapsed": true
   },
   "outputs": [],
   "source": [
    "import scipy.io\n",
    "import numpy as np"
   ]
  },
  {
   "cell_type": "code",
   "execution_count": 13,
   "metadata": {
    "collapsed": false,
    "scrolled": false
   },
   "outputs": [],
   "source": [
    "network = scipy.io.loadmat('network.mat')"
   ]
  },
  {
   "cell_type": "code",
   "execution_count": 18,
   "metadata": {
    "collapsed": false
   },
   "outputs": [],
   "source": [
    "g1 = network['seleccion'][0][0]"
   ]
  },
  {
   "cell_type": "code",
   "execution_count": 64,
   "metadata": {
    "collapsed": false
   },
   "outputs": [
    {
     "name": "stdout",
     "output_type": "stream",
     "text": [
      "[0, 14, 1, 18, 14, 31, 27, 26, 17, 23, 22, 21, 16, 12, 9, 10, 1, 2, 27, 30, 8]\n",
      "21\n",
      "\n",
      "Sensors:\n",
      "-8.0\n",
      "-0.774193548387097\n",
      "-7.483870967741936\n",
      "1.290322580645162\n",
      "\n",
      "Alpha:\n",
      "2.34375\n",
      "H1:\n",
      "0.2\n",
      "H2:\n",
      "0.21774193548387097\n",
      "motor bias L (*pi):\n",
      "1.6774193548387097\n",
      "motor bias R (*pi):\n",
      "1.096774193548387\n",
      "\n",
      "Osc nat freqs:\n",
      "1.4838709677419355\n",
      "1.4193548387096775\n",
      "1.3548387096774193\n",
      "\n",
      "Osc pref phase rel:\n",
      "0.05067084925144827\n",
      "-0.3546959447601379\n",
      "-0.6587210402688275\n",
      "\n",
      "Couplings rate of change:\n",
      "0.2903225806451613\n",
      "0.02903225806451613\n",
      "0.05806451612903226\n",
      "0.7838709677419355\n",
      "0.8709677419354839\n",
      "0.23225806451612904\n"
     ]
    }
   ],
   "source": [
    "dg1 = [int(g,2) for g in g1]\n",
    "print(dg1)\n",
    "print(len(dg1))\n",
    "print()\n",
    "print('Sensors:')\n",
    "print(dg1[0]/31 * 16 - 8)\n",
    "print(dg1[1]/31 * 16 - 8)\n",
    "print(dg1[2]/31 * 16 - 8)\n",
    "print(dg1[3]/31 * 16 - 8)\n",
    "print()\n",
    "print('Alpha:')\n",
    "print((dg1[4]+1)/32 * 5)\n",
    "print('H1:')\n",
    "print(dg1[5]/31 * 0.2)\n",
    "print('H2:')\n",
    "print(dg1[6]/31 * 0.25)\n",
    "print('motor bias L (*pi):')\n",
    "print(dg1[7]/31 * 2)\n",
    "print('motor bias R (*pi):')\n",
    "print(dg1[8]/31 * 2)\n",
    "print()\n",
    "print('Osc nat freqs:')\n",
    "print(dg1[9]/31 * 2)\n",
    "print(dg1[10]/31 * 2)\n",
    "print(dg1[11]/31 * 2)\n",
    "print()\n",
    "print('Osc pref phase rel:')\n",
    "print(dg1[12]/31*np.pi - np.pi/2)\n",
    "print(dg1[13]/31*np.pi - np.pi/2)\n",
    "print(dg1[14]/31*np.pi - np.pi/2)\n",
    "print()\n",
    "print('Couplings rate of change:')\n",
    "print(dg1[15]/31*0.9)\n",
    "print(dg1[16]/31*0.9)\n",
    "print(dg1[17]/31*0.9)\n",
    "print(dg1[18]/31*0.9)\n",
    "print(dg1[19]/31*0.9)\n",
    "print(dg1[20]/31*0.9)\n",
    "\n",
    "\n"
   ]
  },
  {
   "cell_type": "code",
   "execution_count": 71,
   "metadata": {
    "collapsed": false
   },
   "outputs": [
    {
     "name": "stdout",
     "output_type": "stream",
     "text": [
      "[0, 14, 1, 18, 14, 31, 27, 26, 17, 23, 22, 21, 16, 12, 9, 10, 1, 2, 27, 30, 8]\n",
      "21\n",
      "\n",
      "Sensors:\n",
      "0.0\n",
      "0.45161290322580644\n",
      "0.03225806451612903\n",
      "0.5806451612903226\n",
      "\n",
      "Alpha:\n",
      "0.45161290322580644\n",
      "H1:\n",
      "1.0\n",
      "H2:\n",
      "0.8709677419354839\n",
      "motor bias L (*pi):\n",
      "0.8387096774193549\n",
      "motor bias R (*pi):\n",
      "0.5483870967741935\n",
      "\n",
      "Osc nat freqs:\n",
      "0.7419354838709677\n",
      "0.7096774193548387\n",
      "0.6774193548387096\n",
      "\n",
      "Osc pref phase rel:\n",
      "0.5161290322580645\n",
      "0.3870967741935484\n",
      "0.2903225806451613\n",
      "\n",
      "Couplings rate of change:\n",
      "0.3225806451612903\n",
      "0.03225806451612903\n",
      "0.06451612903225806\n",
      "0.8709677419354839\n",
      "0.967741935483871\n",
      "0.25806451612903225\n",
      "21\n",
      "[-1.0, -0.09677419354838712, -0.935483870967742, 0.16129032258064524, -0.09677419354838712, 1.0, 0.7419354838709677, 0.6774193548387097, 0.09677419354838701, 0.4838709677419355, 0.4193548387096775, 0.35483870967741926, 0.032258064516129004, -0.22580645161290325, -0.4193548387096774, -0.3548387096774194, -0.935483870967742, -0.8709677419354839, 0.7419354838709677, 0.935483870967742, -0.4838709677419355]\n"
     ]
    }
   ],
   "source": [
    "dg1 = [int(g,2) for g in g1]\n",
    "print(dg1)\n",
    "print(len(dg1))\n",
    "print()\n",
    "print('Sensors:')\n",
    "print(dg1[0]/31)\n",
    "print(dg1[1]/31)\n",
    "print(dg1[2]/31)\n",
    "print(dg1[3]/31)\n",
    "print()\n",
    "print('Alpha:')\n",
    "print((dg1[4])/31)\n",
    "print('H1:')\n",
    "print(dg1[5]/31)\n",
    "print('H2:')\n",
    "print(dg1[6]/31)\n",
    "print('motor bias L (*pi):')\n",
    "print(dg1[7]/31)\n",
    "print('motor bias R (*pi):')\n",
    "print(dg1[8]/31)\n",
    "print()\n",
    "print('Osc nat freqs:')\n",
    "print(dg1[9]/31)\n",
    "print(dg1[10]/31)\n",
    "print(dg1[11]/31)\n",
    "print()\n",
    "print('Osc pref phase rel:')\n",
    "print(dg1[12]/31)\n",
    "print(dg1[13]/31)\n",
    "print(dg1[14]/31)\n",
    "print()\n",
    "print('Couplings rate of change:')\n",
    "print(dg1[15]/31)\n",
    "print(dg1[16]/31)\n",
    "print(dg1[17]/31)\n",
    "print(dg1[18]/31)\n",
    "print(dg1[19]/31)\n",
    "print(dg1[20]/31)\n",
    "\n",
    "\n",
    "ng = [(g/31)*2-1 for g in dg1]\n",
    "print(len(ng))\n",
    "print(ng)"
   ]
  },
  {
   "cell_type": "code",
   "execution_count": 1,
   "metadata": {
    "collapsed": true
   },
   "outputs": [],
   "source": [
    "oo = [-1.0, #s11 AL 0\n",
    "         -0.09677419354838712, #s12 AR 1\n",
    "         -0.935483870967742, #s21 BL 2\n",
    "         0.16129032258064524, #s22 BR 3\n",
    "         -0.09677419354838712, #coupling max strength 4\n",
    "         1.0, #h1 5\n",
    "        0.7419354838709677,#h2 6\n",
    "         0.6774193548387097, #mlb 7\n",
    "         0.09677419354838701,#mrb 8 \n",
    "         0.4838709677419355, #o1w nat freq 9\n",
    "         0.4193548387096775, #o2w nat freq 10\n",
    "         0.35483870967741926, #o3w nat freq 11\n",
    "         0.032258064516129004, #o1ppr 12\n",
    "         -0.22580645161290325, #o2ppr 13\n",
    "         -0.4193548387096774, #o3ppr 14\n",
    "         -0.3548387096774194,  #c12 eta LR 15\n",
    "         -0.935483870967742,#c13 eta LR 16\n",
    "         -0.8709677419354839, #c21 eta LR 17\n",
    "         0.7419354838709677, #c23 eta LR 18\n",
    "         0.935483870967742, #c31 eta LR 19\n",
    "         -0.4838709677419355] #c32 eta LR 20\n",
    "\n",
    "newGenes = [-0.09677419354838712, #coupling max strength\n",
    "         0.4838709677419355, #o1w nat freq\n",
    "         0.032258064516129004, #o1ppr\n",
    "         0.4193548387096775, #o2w nat freq\n",
    "         -0.22580645161290325, #o2ppr\n",
    "         0.35483870967741926, #o3w nat freq\n",
    "         -0.4193548387096774, #o3ppr\n",
    "         -0.3548387096774194,  #c12 eta LR\n",
    "         -0.935483870967742,#c13 eta LR\n",
    "         -0.8709677419354839, #c21 eta LR\n",
    "         0.7419354838709677, #c23 eta LR\n",
    "         0.935483870967742, #c31 eta LR\n",
    "         -0.4838709677419355, #c32 eta LR\n",
    "         -1.0, #s11 AL\n",
    "         -0.09677419354838712, #s12 AR\n",
    "         -0.935483870967742, #s21 BL\n",
    "         0.16129032258064524, #s22 BR\n",
    "         0.6774193548387097, #mlb\n",
    "         0.09677419354838701,#mrb\n",
    "         1.0, #h1\n",
    "        0.7419354838709677]#h2"
   ]
  },
  {
   "cell_type": "code",
   "execution_count": 51,
   "metadata": {
    "collapsed": false
   },
   "outputs": [
    {
     "name": "stdout",
     "output_type": "stream",
     "text": [
      "Populating the interactive namespace from numpy and matplotlib\n"
     ]
    },
    {
     "data": {
      "text/plain": [
       "[<matplotlib.lines.Line2D at 0x6ebd9f0>]"
      ]
     },
     "execution_count": 51,
     "metadata": {},
     "output_type": "execute_result"
    },
    {
     "data": {
      "image/png": "[encoded data removed]",
      "text/plain": [
       "<matplotlib.figure.Figure at 0x6d62df0>"
      ]
     },
     "metadata": {},
     "output_type": "display_data"
    }
   ],
   "source": [
    "import matplotlib.pyplot as plt\n",
    "%pylab inline\n",
    "\n",
    "def F(x):\n",
    "    return ((1 - np.cos(x))-1)\n",
    "\n",
    "xax = np.arange(0,35,0.001)\n",
    "plt.plot(xax,F(xax))"
   ]
  },
  {
   "cell_type": "code",
   "execution_count": 60,
   "metadata": {
    "collapsed": false
   },
   "outputs": [
    {
     "data": {
      "text/plain": [
       "array([ 0.888,  0.666])"
      ]
     },
     "execution_count": 60,
     "metadata": {},
     "output_type": "execute_result"
    }
   ],
   "source": [
    "np.hstack((0.888,[0.666]))"
   ]
  },
  {
   "cell_type": "code",
   "execution_count": 1,
   "metadata": {
    "collapsed": false
   },
   "outputs": [],
   "source": [
    "from NeuroRobot.Sim import *\n",
    "from NeuroRobot.Visualiser import *\n",
    "from NeuroRobot.GA import *\n",
    "from NeuroRobot.Controller import *\n",
    "import numpy as np"
   ]
  },
  {
   "cell_type": "code",
   "execution_count": 6,
   "metadata": {
    "collapsed": true
   },
   "outputs": [],
   "source": [
    "v = Visualiser(genotype=getOriginalAgentGenotype())"
   ]
  },
  {
   "cell_type": "code",
   "execution_count": 6,
   "metadata": {
    "collapsed": false
   },
   "outputs": [
    {
     "name": "stdout",
     "output_type": "stream",
     "text": [
      "[-0.09677419354838712, 0.4838709677419355, 0.032258064516129004, 0.4193548387096775, -0.22580645161290325, 0.35483870967741926, -0.4193548387096774, -0.3548387096774194, -0.935483870967742, -0.8709677419354839, 0.7419354838709677, 0.935483870967742, -0.4838709677419355, -1.0, -0.09677419354838712, -0.935483870967742, 0.16129032258064524, 0.6774193548387097, 0.09677419354838701, 1.0, 0.7419354838709677]\n"
     ]
    }
   ],
   "source": [
    "print(getOriginalAgentGenotype())"
   ]
  }
 ],
 "metadata": {
  "kernelspec": {
   "display_name": "Python 2",
   "language": "python",
   "name": "python2"
  },
  "language_info": {
   "codemirror_mode": {
    "name": "ipython",
    "version": 2
   },
   "file_extension": ".py",
   "mimetype": "text/x-python",
   "name": "python",
   "nbconvert_exporter": "python",
   "pygments_lexer": "ipython2",
   "version": "2.7.6"
  }
 },
 "nbformat": 4,
 "nbformat_minor": 0
}
